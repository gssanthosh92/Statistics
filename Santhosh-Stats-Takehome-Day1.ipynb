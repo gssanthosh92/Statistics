{
 "cells": [
  {
   "cell_type": "code",
   "execution_count": 1,
   "metadata": {},
   "outputs": [],
   "source": [
    "## CALLING LIBRARIES\n",
    "import numpy             as np\n",
    "import pandas            as pd\n",
    "import scipy.stats       as stats\n",
    "import matplotlib.pyplot as plt\n",
    "%matplotlib inline\n",
    "import seaborn           as sns\n",
    "import math"
   ]
  },
  {
   "cell_type": "markdown",
   "metadata": {},
   "source": [
    "## Normal Distribution"
   ]
  },
  {
   "cell_type": "markdown",
   "metadata": {},
   "source": [
    "**1.Problem:** The fill amount in 2-liter soft drink bottles is normally distributed, with a mean of 2.0 liters and a standard deviation of 0.05 liter. If the bottles contain less than 95% of the listed net content (1.90 liters, in our case), the manufacturer may be subject to penalty by the state office of consumer affairs. Bottles that have a net content above 2.1 liters may cause excess spillage upon opening. What is the proportion of bottles that will contain\n",
    "\n",
    "* a) between 1.9 and 2.0 liters\n",
    "* b) between 1.9 and 2.1 liters\n",
    "* c) below 1.9 liters or above 2.1 liters\n",
    "* d) At least how much soft drink is contained in 99% of the bottles?"
   ]
  },
  {
   "cell_type": "code",
   "execution_count": 2,
   "metadata": {},
   "outputs": [],
   "source": [
    "mu     = 2\n",
    "sigma  = 0.05"
   ]
  },
  {
   "cell_type": "markdown",
   "metadata": {},
   "source": [
    "#### a. between 1.9 and 2.0 liters\n",
    "----------"
   ]
  },
  {
   "cell_type": "code",
   "execution_count": 3,
   "metadata": {},
   "outputs": [
    {
     "name": "stdout",
     "output_type": "stream",
     "text": [
      "Z value for 1.90 liters is -2.0000\n"
     ]
    }
   ],
   "source": [
    "x1   = 1.90\n",
    "z1   = (x1 - mu) /  sigma \n",
    "print(\"Z value for 1.90 liters is %3.4f\" % z1)"
   ]
  },
  {
   "cell_type": "code",
   "execution_count": 4,
   "metadata": {},
   "outputs": [
    {
     "name": "stdout",
     "output_type": "stream",
     "text": [
      "Z value for 2 liters is 0.0000\n"
     ]
    }
   ],
   "source": [
    "x2   = 2\n",
    "z2   = (x2 - mu) /  sigma \n",
    "print(\"Z value for 2 liters is %3.4f\" % z2)"
   ]
  },
  {
   "cell_type": "code",
   "execution_count": 5,
   "metadata": {},
   "outputs": [
    {
     "name": "stdout",
     "output_type": "stream",
     "text": [
      "a.  Proportion of bottles between 1.9 and 2 L is 0.4772\n"
     ]
    }
   ],
   "source": [
    "P  = stats.norm.cdf(z2) - stats.norm.cdf(z1)\n",
    "print(\"a.  Proportion of bottles between 1.9 and 2 L is %3.4f\" % P)"
   ]
  },
  {
   "cell_type": "markdown",
   "metadata": {},
   "source": [
    "#### b) between 1.9 and 2.1 liters\n",
    "-------"
   ]
  },
  {
   "cell_type": "code",
   "execution_count": 6,
   "metadata": {},
   "outputs": [
    {
     "name": "stdout",
     "output_type": "stream",
     "text": [
      "Z value for 2.1 liters is 2.0000\n"
     ]
    }
   ],
   "source": [
    "x3   = 2.1\n",
    "z3   = (x3 - mu) /  sigma\n",
    "print(\"Z value for 2.1 liters is %3.4f\" % z3)"
   ]
  },
  {
   "cell_type": "code",
   "execution_count": 7,
   "metadata": {},
   "outputs": [
    {
     "name": "stdout",
     "output_type": "stream",
     "text": [
      "b. Proportion of bottles between 1.9 and 2.1 L is 0.9545\n"
     ]
    }
   ],
   "source": [
    "P = stats.norm.cdf(z3) - stats.norm.cdf(z1)\n",
    "print(\"b. Proportion of bottles between 1.9 and 2.1 L is %3.4f\" %P)"
   ]
  },
  {
   "cell_type": "markdown",
   "metadata": {},
   "source": [
    "#### c. below 1.9 liters or above 2.1 liters\n",
    "------"
   ]
  },
  {
   "cell_type": "code",
   "execution_count": 8,
   "metadata": {},
   "outputs": [
    {
     "name": "stdout",
     "output_type": "stream",
     "text": [
      "c. below 1.9 liters or above 2.1 liters is  0.0455\n"
     ]
    }
   ],
   "source": [
    "P1  =  stats.norm.cdf(z1)\n",
    "P2  =  1 - stats.norm.cdf(z3)\n",
    "print(\"c. below 1.9 liters or above 2.1 liters is  %3.4f\" % (P1 + P2))"
   ]
  },
  {
   "cell_type": "markdown",
   "metadata": {},
   "source": [
    "#### d) At least how much soft drink is contained in 99% of the bottles?\n",
    "-----------"
   ]
  },
  {
   "cell_type": "code",
   "execution_count": 9,
   "metadata": {},
   "outputs": [
    {
     "name": "stdout",
     "output_type": "stream",
     "text": [
      "d. At least how much soft drink is contained in 99 percent of the bottles is  1.8837 Liters\n"
     ]
    }
   ],
   "source": [
    "# Here we need to find the vol\n",
    "P = stats.norm.isf(q = 0.99, loc = mu, scale = sigma)\n",
    "print(\"d. At least how much soft drink is contained in 99 percent of the bottles is  %4.4f Liters\" % P)"
   ]
  },
  {
   "cell_type": "markdown",
   "metadata": {},
   "source": [
    "------"
   ]
  },
  {
   "cell_type": "markdown",
   "metadata": {},
   "source": [
    "**2. Problem)**. The following table contains the age of the vistors in the cricket stadium  ( n =50).**\n",
    "* Decide whether the data appears to be normally distributed by\n",
    "* a. Mean and median "
   ]
  },
  {
   "cell_type": "markdown",
   "metadata": {},
   "source": [
    "**solution :**"
   ]
  },
  {
   "cell_type": "code",
   "execution_count": 10,
   "metadata": {},
   "outputs": [
    {
     "name": "stdout",
     "output_type": "stream",
     "text": [
      "[38 36 31 30 28 25 26 20 20 20 21 19 21 19 21 20 20 20 19 21 21 22 20 22\n",
      " 20 20 22 20 22 21 19 19 20 20 21 20 19 18 20 21 21 20 21 21 20 21 24 32\n",
      " 35 38]\n"
     ]
    }
   ],
   "source": [
    "mpg = np.array([38,36,31,30, 28,25, 26, 20, 20, 20, 21, 19, 21, 19, 21, 20, 20, 20, 19, 21, 21, 22, 20, 22, 20, 20, 22, 20, 22, 21, 19,\n",
    "                             19, 20, 20, 21, 20, 19, 18, 20, 21, 21, 20, 21, 21, 20,  21, 24, 32, 35,38])\n",
    "print(mpg)"
   ]
  },
  {
   "cell_type": "code",
   "execution_count": 11,
   "metadata": {},
   "outputs": [
    {
     "data": {
      "text/plain": [
       "50"
      ]
     },
     "execution_count": 11,
     "metadata": {},
     "output_type": "execute_result"
    }
   ],
   "source": [
    "len(mpg)"
   ]
  },
  {
   "cell_type": "code",
   "execution_count": 12,
   "metadata": {},
   "outputs": [
    {
     "data": {
      "image/png": "[encoded data removed]",
      "text/plain": [
       "<Figure size 432x288 with 1 Axes>"
      ]
     },
     "metadata": {
      "needs_background": "light"
     },
     "output_type": "display_data"
    }
   ],
   "source": [
    "fig, ax = plt.subplots()\n",
    "pd.DataFrame(mpg).plot.kde(ax=ax, legend=False)\n",
    "pd.DataFrame(mpg).plot.hist(density=True, ax=ax)\n",
    "plt.show()"
   ]
  },
  {
   "cell_type": "code",
   "execution_count": 13,
   "metadata": {},
   "outputs": [
    {
     "data": {
      "text/plain": [
       "22.7"
      ]
     },
     "execution_count": 13,
     "metadata": {},
     "output_type": "execute_result"
    }
   ],
   "source": [
    "np.mean(mpg)"
   ]
  },
  {
   "cell_type": "code",
   "execution_count": 14,
   "metadata": {},
   "outputs": [
    {
     "data": {
      "text/plain": [
       "21.0"
      ]
     },
     "execution_count": 14,
     "metadata": {},
     "output_type": "execute_result"
    }
   ],
   "source": [
    "np.median(mpg)"
   ]
  },
  {
   "cell_type": "code",
   "execution_count": 15,
   "metadata": {},
   "outputs": [],
   "source": [
    "# mean is greater than median then it is right skewed."
   ]
  },
  {
   "cell_type": "markdown",
   "metadata": {},
   "source": [
    "------------------"
   ]
  },
  {
   "cell_type": "markdown",
   "metadata": {},
   "source": [
    "**3.Problem**). The mean filling capacity for a coke bottle is 500 ml with a standard deviation of 20ml. The random variable filled     \n",
    "       capacity of the bottles follows a normal distribution.**\n",
    "\n",
    "* a. What is the probability that the bottle filled less than 480 ml ?\n",
    "* b. What is the probability that the bottle filled more than  520 ml? \n",
    "* c. What is the probability that the bottle filled between 470 ml to 525 ml? "
   ]
  },
  {
   "cell_type": "markdown",
   "metadata": {},
   "source": [
    "**solution :**"
   ]
  },
  {
   "cell_type": "code",
   "execution_count": 16,
   "metadata": {},
   "outputs": [],
   "source": [
    "mu = 500\n",
    "sigma = 20"
   ]
  },
  {
   "cell_type": "code",
   "execution_count": 17,
   "metadata": {},
   "outputs": [
    {
     "name": "stdout",
     "output_type": "stream",
     "text": [
      "probaility of bottle filled less than 480 ml is 0.1587\n"
     ]
    }
   ],
   "source": [
    "x1=480\n",
    "z1=(x1-mu)/sigma\n",
    "p=stats.norm.cdf(z1)\n",
    "print ('probaility of bottle filled less than 480 ml is %1.4f' %p)"
   ]
  },
  {
   "cell_type": "code",
   "execution_count": 18,
   "metadata": {},
   "outputs": [
    {
     "name": "stdout",
     "output_type": "stream",
     "text": [
      "probaility of bottle filled more than 520 ml is 0.8413\n"
     ]
    }
   ],
   "source": [
    "x2=520\n",
    "z2=(x2-mu)/sigma\n",
    "p1=stats.norm.cdf(z2)\n",
    "print ('probaility of bottle filled more than 520 ml is %1.4f' %p1)"
   ]
  },
  {
   "cell_type": "code",
   "execution_count": 19,
   "metadata": {},
   "outputs": [
    {
     "name": "stdout",
     "output_type": "stream",
     "text": [
      "probability that the bottle filled between 470 ml to 525 ml is 0.8275\n"
     ]
    }
   ],
   "source": [
    "x3=470\n",
    "z3=(x3-mu)/sigma\n",
    "x4=525\n",
    "z4=(x4-mu)/sigma\n",
    "p2=stats.norm.cdf(z3)\n",
    "p3=stats.norm.cdf(z4)\n",
    "p4=p3-p2\n",
    "\n",
    "print ('probability that the bottle filled between 470 ml to 525 ml is %1.4f' %p4)"
   ]
  },
  {
   "cell_type": "markdown",
   "metadata": {},
   "source": [
    "-------------------"
   ]
  },
  {
   "cell_type": "markdown",
   "metadata": {},
   "source": [
    "**4.Problem:** ) Provided the Population data and sample data.\n",
    "\n",
    "#### a).plot the population data and sample data check how the data is distributed.Give inference wheather the sampling distribution similar to population data."
   ]
  },
  {
   "cell_type": "code",
   "execution_count": 20,
   "metadata": {},
   "outputs": [
    {
     "name": "stdout",
     "output_type": "stream",
     "text": [
      "[1824 1825 1821 ... 1812 1807 1805]\n"
     ]
    }
   ],
   "source": [
    "np.random.seed(7)\n",
    "population_horsepower1 = stats.poisson.rvs(loc=1800, mu=25, size=15000)\n",
    "population_horsepower2 = stats.poisson.rvs(loc=1800, mu=5, size=10000)\n",
    "population_hp = np.concatenate((population_horsepower1, population_horsepower2))\n",
    "\n",
    "print(population_hp) # population data"
   ]
  },
  {
   "cell_type": "code",
   "execution_count": 21,
   "metadata": {},
   "outputs": [
    {
     "name": "stdout",
     "output_type": "stream",
     "text": [
      "[1806 1816 1833 1809 1834 1819 1818 1803 1823 1803 1824 1807 1823 1835\n",
      " 1804 1802 1812 1804 1802 1821 1819 1829 1822 1826 1841 1831 1804 1820\n",
      " 1805 1828 1821 1826 1801 1820 1807 1806 1806 1807 1817 1824 1828 1806\n",
      " 1824 1819 1823 1818 1827 1803 1829 1824 1804 1802 1826 1827 1824 1809\n",
      " 1828 1822 1805 1805 1806 1805 1801 1810 1827 1822 1831 1822 1803 1820\n",
      " 1806 1822 1811 1816 1830 1835 1828 1822 1826 1803 1835 1827 1827 1824\n",
      " 1819 1826 1831 1803 1807 1831 1811 1818 1817 1832 1805 1808 1802 1821\n",
      " 1804 1836]\n"
     ]
    }
   ],
   "source": [
    "np.random.seed(7)\n",
    "sample_hp = np.random.choice(a= population_hp,size=100)            # Sample 100 values\n",
    "print(sample_hp) #sample data"
   ]
  },
  {
   "cell_type": "markdown",
   "metadata": {},
   "source": [
    "**Solution :**"
   ]
  },
  {
   "cell_type": "code",
   "execution_count": 22,
   "metadata": {},
   "outputs": [
    {
     "name": "stdout",
     "output_type": "stream",
     "text": [
      "-0.06703281045837614\n"
     ]
    },
    {
     "data": {
      "image/png": "[encoded data removed]",
      "text/plain": [
       "<Figure size 648x648 with 1 Axes>"
      ]
     },
     "metadata": {
      "needs_background": "light"
     },
     "output_type": "display_data"
    }
   ],
   "source": [
    "\n",
    "pd.DataFrame(population_hp).hist(bins=60,\n",
    "                                  range=(1800,1860),\n",
    "                                  figsize=(9,9))\n",
    "\n",
    "print( stats.skew(population_hp) )\n"
   ]
  },
  {
   "cell_type": "code",
   "execution_count": 23,
   "metadata": {},
   "outputs": [
    {
     "name": "stdout",
     "output_type": "stream",
     "text": [
      "-0.01397493274662127\n"
     ]
    },
    {
     "data": {
      "image/png": "[encoded data removed]",
      "text/plain": [
       "<Figure size 648x648 with 1 Axes>"
      ]
     },
     "metadata": {
      "needs_background": "light"
     },
     "output_type": "display_data"
    }
   ],
   "source": [
    "pd.DataFrame(sample_hp).hist(bins=45,\n",
    "                                  range=(1800,1860),\n",
    "                                  figsize=(9,9))\n",
    "\n",
    "print( stats.skew(sample_hp))\n"
   ]
  },
  {
   "cell_type": "markdown",
   "metadata": {},
   "source": [
    "\n",
    "**The sample has roughly the same shape as the underlying population. This suggests that we can't apply techniques that assume a normal distribution to this data set, since it is not normal.**\n",
    "\n",
    "**At a high level, the theorem states the distribution of many sample means, known as a sampling distribution, will be normally distributed. This rule holds even if the underlying distribution itself is not normally distributed. As a result we can treat the sample mean as if it were drawn normal distribution.**"
   ]
  },
  {
   "cell_type": "markdown",
   "metadata": {},
   "source": [
    "---------------"
   ]
  },
  {
   "cell_type": "markdown",
   "metadata": {},
   "source": [
    "**5.Problem:**) Provided the Population data and sample data.\n",
    "\n",
    "#### a).calculate a 90% confidence for our mean point estimate?"
   ]
  },
  {
   "cell_type": "code",
   "execution_count": 24,
   "metadata": {},
   "outputs": [
    {
     "name": "stdout",
     "output_type": "stream",
     "text": [
      "[1820 1824 1824 ... 1808 1806 1804]\n"
     ]
    }
   ],
   "source": [
    "np.random.seed(11)\n",
    "population_horsepower1 = stats.poisson.rvs(loc=1800, mu=25, size=15000)\n",
    "population_horsepower2 = stats.poisson.rvs(loc=1800, mu=5, size=10000)\n",
    "population_hp = np.concatenate((population_horsepower1, population_horsepower2))\n",
    "\n",
    "print(population_hp) # population data"
   ]
  },
  {
   "cell_type": "code",
   "execution_count": 30,
   "metadata": {},
   "outputs": [],
   "source": [
    "np.random.seed(11)\n",
    "\n",
    "sample_size = 100\n",
    "sample = np.random.choice(a= population_hp, size = sample_size)\n",
    "sample_mean = np.mean(sample)"
   ]
  },
  {
   "cell_type": "markdown",
   "metadata": {},
   "source": [
    "**Solution :**"
   ]
  },
  {
   "cell_type": "code",
   "execution_count": 31,
   "metadata": {},
   "outputs": [
    {
     "name": "stdout",
     "output_type": "stream",
     "text": [
      "z-critical value:\n",
      "1.959963984540054\n",
      "Confidence interval:\n",
      "(1814.0859737314918, 1818.2540262685084)\n"
     ]
    }
   ],
   "source": [
    "z_critical = stats.norm.ppf(q = 0.975)  # Get the z-critical value*\n",
    "\n",
    "print(\"z-critical value:\")              # Check the z-critical value\n",
    "print(z_critical)                        \n",
    "\n",
    "pop_stdev = population_hp.std()  # Get the population standard deviation\n",
    "\n",
    "margin_of_error = z_critical * (pop_stdev/math.sqrt(sample_size))\n",
    "\n",
    "confidence_interval = (sample_mean - margin_of_error,\n",
    "                       sample_mean + margin_of_error)  \n",
    "\n",
    "print(\"Confidence interval:\")\n",
    "print(confidence_interval)"
   ]
  },
  {
   "cell_type": "code",
   "execution_count": 32,
   "metadata": {},
   "outputs": [
    {
     "data": {
      "text/plain": [
       "1817.0128"
      ]
     },
     "execution_count": 32,
     "metadata": {},
     "output_type": "execute_result"
    }
   ],
   "source": [
    "population_hp.mean()"
   ]
  },
  {
   "cell_type": "markdown",
   "metadata": {},
   "source": [
    "**Note:** We use stats.norm.ppf(q = 0.975) to get the desired z-critical value instead of q = 0.95 because the distribution has two tails.\n",
    "\n",
    "Notice that the confidence interval we calculated captures the true population mean of 1817.01."
   ]
  },
  {
   "cell_type": "markdown",
   "metadata": {},
   "source": [
    "----------------"
   ]
  },
  {
   "cell_type": "markdown",
   "metadata": {},
   "source": [
    "**6.Problem:**. Hindustan Pencils Pvt. Ltd. is an Indian manufacturer of pencils, writing materials and other stationery items, established in 1958 in Mumbai. Nataraj brand of pencils manufactured by the company is expected to have a mean length of 172 mm and the standard deviation of the length is 0.02 mm.\n",
    "To ensure quality, a sample is selected at periodic intervals to determine whether the length is still 172 mm and other dimensions of the pencil meet the quality standards set by the company.You select a random sample of 100 pencils follows a normal distribution and the mean is 170 mm.**\n",
    "\n",
    "* a).Construct a 99% confidence interval for the pencil length."
   ]
  },
  {
   "cell_type": "markdown",
   "metadata": {},
   "source": [
    "**Solution :**"
   ]
  },
  {
   "cell_type": "markdown",
   "metadata": {},
   "source": [
    "It is known that \n",
    "* $\\overline{X}$ = 172 mm\n",
    "* $\\sigma$       = 0.02 mm\n",
    "* n              = 100\n",
    "We need to compute $\\overline{X} \\quad \\pm 1.64 \\frac {\\sigma} {\\sqrt{n}}$ "
   ]
  },
  {
   "cell_type": "code",
   "execution_count": 28,
   "metadata": {
    "scrolled": true
   },
   "outputs": [
    {
     "name": "stdout",
     "output_type": "stream",
     "text": [
      "99 % confidence interval for population mean is 171.9948  to 172.0052\n"
     ]
    }
   ],
   "source": [
    "ci     = 0.99\n",
    "Xavg   = 172\n",
    "sigma  = 0.02\n",
    "n = 100\n",
    "s      = sigma / np.sqrt(n)\n",
    "LCI, UCI = stats.norm.interval(ci, loc = Xavg, scale = s) # Give confidence interval 95%, mean and std as arguments to get CI\n",
    "print('99 %s confidence interval for population mean is %1.4f  to %1.4f' % ('%', LCI , UCI))"
   ]
  },
  {
   "cell_type": "code",
   "execution_count": null,
   "metadata": {},
   "outputs": [],
   "source": []
  }
 ],
 "metadata": {
  "kernelspec": {
   "display_name": "Python 3",
   "language": "python",
   "name": "python3"
  },
  "language_info": {
   "codemirror_mode": {
    "name": "ipython",
    "version": 3
   },
   "file_extension": ".py",
   "mimetype": "text/x-python",
   "name": "python",
   "nbconvert_exporter": "python",
   "pygments_lexer": "ipython3",
   "version": "3.7.3"
  }
 },
 "nbformat": 4,
 "nbformat_minor": 2
}
