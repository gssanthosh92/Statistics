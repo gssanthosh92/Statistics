{
 "cells": [
  {
   "cell_type": "code",
   "execution_count": 4,
   "metadata": {},
   "outputs": [],
   "source": [
    "## CALLING LIBRARIES\n",
    "\n",
    "import numpy as np\n",
    "import pandas as pd\n",
    "import scipy.stats as stats\n",
    "import math\n",
    "import matplotlib.pyplot as plt\n",
    "%matplotlib inline\n",
    "import scipy.stats as stats\n",
    "from scipy.stats             import ttest_1samp,ttest_ind, wilcoxon\n",
    "from statsmodels.stats.power import ttest_power\n",
    "import matplotlib.pyplot     as     plt"
   ]
  },
  {
   "cell_type": "code",
   "execution_count": 5,
   "metadata": {},
   "outputs": [
    {
     "data": {
      "text/plain": [
       "array([ 2.57592034, -0.24928261, -0.66475364,  1.7449783 ,  0.        ,\n",
       "        0.24928261,  1.49569568, -1.41260148,  1.8280725 , -1.57878989,\n",
       "       -1.8280725 , -0.91403625, -0.41547102, -0.49856523,  0.66475364,\n",
       "        0.99713045, -1.16331886, -1.24641307,  0.24928261,  1.8280725 ,\n",
       "       -0.83094205, -1.16331886,  0.24928261,  0.83094205, -0.66475364,\n",
       "       -0.16618841, -1.24641307,  0.49856523, -0.91403625,  1.8280725 ,\n",
       "       -1.16331886,  3.32376818, -0.91403625,  0.99713045, -0.99713045,\n",
       "        0.24928261,  0.16618841,  0.24928261,  0.0830942 ,  0.83094205,\n",
       "       -0.16618841,  0.74784784, -0.24928261,  0.33237682, -0.66475364,\n",
       "        0.16618841,  1.08022466, -0.33237682, -1.49569568, -0.58165943,\n",
       "        1.32950727,  0.16618841,  0.99713045,  0.0830942 ,  2.24354352,\n",
       "        0.99713045, -1.08022466, -0.66475364,  0.99713045,  0.41547102,\n",
       "       -0.0830942 ,  1.16331886, -1.16331886,  1.08022466, -0.41547102,\n",
       "       -0.41547102, -0.16618841, -0.49856523, -0.16618841, -0.49856523,\n",
       "       -0.91403625,  0.41547102, -0.0830942 , -1.16331886,  1.49569568,\n",
       "       -0.41547102,  0.74784784,  0.66475364,  0.58165943, -1.08022466,\n",
       "        0.41547102, -1.16331886,  0.24928261,  0.58165943,  1.41260148,\n",
       "       -1.24641307, -0.91403625, -1.16331886,  1.32950727, -0.91403625,\n",
       "        0.58165943, -0.49856523, -0.49856523,  0.41547102,  0.0830942 ,\n",
       "       -0.33237682,  0.66475364, -0.74784784, -1.41260148, -1.49569568,\n",
       "        0.16618841, -0.83094205, -0.83094205,  1.49569568,  0.0830942 ,\n",
       "       -1.08022466, -0.83094205, -0.0830942 , -0.66475364,  0.        ,\n",
       "        1.16331886,  0.16618841, -0.41547102,  2.07735511,  0.16618841,\n",
       "       -2.74210875, -1.41260148, -0.74784784, -1.24641307, -0.41547102,\n",
       "        1.66188409, -0.0830942 , -0.99713045,  0.        , -0.33237682,\n",
       "        0.0830942 , -0.16618841, -0.91403625,  0.49856523,  0.83094205,\n",
       "       -0.83094205,  0.83094205,  1.66188409,  1.08022466,  0.41547102,\n",
       "       -0.41547102,  0.74784784,  1.9111667 , -1.41260148,  1.32950727,\n",
       "       -0.66475364, -0.33237682,  0.0830942 , -1.32950727,  0.91403625,\n",
       "        0.66475364, -0.0830942 ,  0.0830942 , -2.07735511, -2.57592034,\n",
       "        0.74784784, -0.74784784,  0.91403625,  0.33237682,  0.66475364,\n",
       "        1.41260148, -0.58165943,  0.        ,  1.08022466, -0.0830942 ,\n",
       "        0.58165943, -0.66475364, -0.33237682, -0.74784784,  1.32950727,\n",
       "        1.08022466,  0.49856523,  1.66188409,  0.0830942 ,  2.16044932,\n",
       "       -0.16618841,  1.24641307,  0.        ,  0.58165943, -0.83094205,\n",
       "       -0.66475364, -1.24641307, -0.24928261, -0.33237682,  0.        ,\n",
       "       -0.24928261,  0.0830942 ,  0.24928261,  1.49569568, -1.08022466,\n",
       "       -1.41260148, -1.16331886, -0.41547102,  0.41547102, -0.91403625,\n",
       "       -0.24928261, -1.08022466, -1.08022466,  1.08022466,  0.49856523,\n",
       "       -0.99713045,  0.74784784,  1.32950727, -0.99713045, -0.24928261])"
      ]
     },
     "execution_count": 5,
     "metadata": {},
     "output_type": "execute_result"
    }
   ],
   "source": [
    "a=[107,73,68,97,76,79,94,59,98,57,54,65,71,70,84,88,62,61,79,98,66,62,79,86,68,74,61,82,65,98,62,116,65,88,64,79,78,79,77,86,74,85,73,80,68,78,89,72,58,69,92,78,88,77,103,88,63,68,88,81,75,90,62,89,71,71,74,70,74,70,65,81,75,62,94,71,85,84,83,63,81,62,79,83,93,61,65,62,92,65,83,70,70,81,77,72,84,67,59,58,78,66,66,94,77,63,66,75,68,76,90,78,71,101,78,43,59,67,61,71,96,75,64,76,72,77,74,65,82,86,66,86,96,89,81,71,85,99,59,92,68,72,77,60,87,84,75,77,51,45,85,67,87,80,84,93,69,76,89,75,83,68,72,67,92,89,82,96,77,102,74,91,76,83,66,68,61,73,72,76,73,77,79,94,63,59,62,71,81,65,73,63,63,89,82,64,85,92,64,73]\n",
    "(a-np.mean(a))/np.std(a)"
   ]
  },
  {
   "cell_type": "code",
   "execution_count": 6,
   "metadata": {},
   "outputs": [
    {
     "data": {
      "text/plain": [
       "array([ 2.57592034, -0.24928261, -0.66475364,  1.7449783 ,  0.        ,\n",
       "        0.24928261,  1.49569568, -1.41260148,  1.8280725 , -1.57878989,\n",
       "       -1.8280725 , -0.91403625, -0.41547102, -0.49856523,  0.66475364,\n",
       "        0.99713045, -1.16331886, -1.24641307,  0.24928261,  1.8280725 ,\n",
       "       -0.83094205, -1.16331886,  0.24928261,  0.83094205, -0.66475364,\n",
       "       -0.16618841, -1.24641307,  0.49856523, -0.91403625,  1.8280725 ,\n",
       "       -1.16331886,  3.32376818, -0.91403625,  0.99713045, -0.99713045,\n",
       "        0.24928261,  0.16618841,  0.24928261,  0.0830942 ,  0.83094205,\n",
       "       -0.16618841,  0.74784784, -0.24928261,  0.33237682, -0.66475364,\n",
       "        0.16618841,  1.08022466, -0.33237682, -1.49569568, -0.58165943,\n",
       "        1.32950727,  0.16618841,  0.99713045,  0.0830942 ,  2.24354352,\n",
       "        0.99713045, -1.08022466, -0.66475364,  0.99713045,  0.41547102,\n",
       "       -0.0830942 ,  1.16331886, -1.16331886,  1.08022466, -0.41547102,\n",
       "       -0.41547102, -0.16618841, -0.49856523, -0.16618841, -0.49856523,\n",
       "       -0.91403625,  0.41547102, -0.0830942 , -1.16331886,  1.49569568,\n",
       "       -0.41547102,  0.74784784,  0.66475364,  0.58165943, -1.08022466,\n",
       "        0.41547102, -1.16331886,  0.24928261,  0.58165943,  1.41260148,\n",
       "       -1.24641307, -0.91403625, -1.16331886,  1.32950727, -0.91403625,\n",
       "        0.58165943, -0.49856523, -0.49856523,  0.41547102,  0.0830942 ,\n",
       "       -0.33237682,  0.66475364, -0.74784784, -1.41260148, -1.49569568,\n",
       "        0.16618841, -0.83094205, -0.83094205,  1.49569568,  0.0830942 ,\n",
       "       -1.08022466, -0.83094205, -0.0830942 , -0.66475364,  0.        ,\n",
       "        1.16331886,  0.16618841, -0.41547102,  2.07735511,  0.16618841,\n",
       "       -2.74210875, -1.41260148, -0.74784784, -1.24641307, -0.41547102,\n",
       "        1.66188409, -0.0830942 , -0.99713045,  0.        , -0.33237682,\n",
       "        0.0830942 , -0.16618841, -0.91403625,  0.49856523,  0.83094205,\n",
       "       -0.83094205,  0.83094205,  1.66188409,  1.08022466,  0.41547102,\n",
       "       -0.41547102,  0.74784784,  1.9111667 , -1.41260148,  1.32950727,\n",
       "       -0.66475364, -0.33237682,  0.0830942 , -1.32950727,  0.91403625,\n",
       "        0.66475364, -0.0830942 ,  0.0830942 , -2.07735511, -2.57592034,\n",
       "        0.74784784, -0.74784784,  0.91403625,  0.33237682,  0.66475364,\n",
       "        1.41260148, -0.58165943,  0.        ,  1.08022466, -0.0830942 ,\n",
       "        0.58165943, -0.66475364, -0.33237682, -0.74784784,  1.32950727,\n",
       "        1.08022466,  0.49856523,  1.66188409,  0.0830942 ,  2.16044932,\n",
       "       -0.16618841,  1.24641307,  0.        ,  0.58165943, -0.83094205,\n",
       "       -0.66475364, -1.24641307, -0.24928261, -0.33237682,  0.        ,\n",
       "       -0.24928261,  0.0830942 ,  0.24928261,  1.49569568, -1.08022466,\n",
       "       -1.41260148, -1.16331886, -0.41547102,  0.41547102, -0.91403625,\n",
       "       -0.24928261, -1.08022466, -1.08022466,  1.08022466,  0.49856523,\n",
       "       -0.99713045,  0.74784784,  1.32950727, -0.99713045, -0.24928261])"
      ]
     },
     "execution_count": 6,
     "metadata": {},
     "output_type": "execute_result"
    }
   ],
   "source": [
    "stats.zscore(a)"
   ]
  },
  {
   "cell_type": "markdown",
   "metadata": {},
   "source": [
    "2) A bank issues credit cards in partnership with MASTER CARD. From history 40% of\n",
    "cardholders do not pay dues on time. Construct a probability distribution of on time\n",
    "payers for a sample of 7 accounts."
   ]
  },
  {
   "cell_type": "code",
   "execution_count": 10,
   "metadata": {},
   "outputs": [
    {
     "name": "stdout",
     "output_type": "stream",
     "text": [
      "[0.0016384 0.0172032 0.0774144 0.193536  0.290304  0.2612736 0.1306368]\n"
     ]
    }
   ],
   "source": [
    "p   =  0.6                # probability of paying on-time\n",
    "n   =   7                 # no. of trials (no. of customers)\n",
    "k   =  np.arange(0,7)     # array of outcomes for 7 trials\n",
    "binom_pmf = stats.binom.pmf(k,n,p) \n",
    "print(binom_pmf)"
   ]
  },
  {
   "cell_type": "markdown",
   "metadata": {},
   "source": [
    "3) A loom produces on the average 2 defects per meter of cloth. What is likely hood that\n",
    "there is no defect in a 3 meter length?"
   ]
  },
  {
   "cell_type": "code",
   "execution_count": 12,
   "metadata": {},
   "outputs": [
    {
     "data": {
      "text/plain": [
       "0.002478752176666357"
      ]
     },
     "execution_count": 12,
     "metadata": {},
     "output_type": "execute_result"
    }
   ],
   "source": [
    "mu = 3*2\n",
    "stats.poisson.cdf(0,mu)"
   ]
  },
  {
   "cell_type": "markdown",
   "metadata": {},
   "source": [
    "4a)\n",
    "On the average 6 cars arrive every 2 minutes at a petrol station.\n",
    "\n",
    "i.What is the probability that exactly four cars arriving in 1 minute?\n",
    "\n",
    "ii.What is the probability of 0 cars arriving in 3 minutes?\n",
    "\n",
    "iii.What is probability of at least 3 cars arriving in 2 minutes?"
   ]
  },
  {
   "cell_type": "code",
   "execution_count": 20,
   "metadata": {},
   "outputs": [
    {
     "name": "stdout",
     "output_type": "stream",
     "text": [
      "probability that exactly four cars arriving in 1 minute is 0.1680\n",
      "probability of 0 cars arriving in 3 minutes is 0.0001\n",
      "probability of at least 3 cars arriving in 2 minutes is 0.8488\n"
     ]
    }
   ],
   "source": [
    "k = np.arange(0,7)\n",
    "a = stats.poisson.pmf(k,3)\n",
    "b = stats.poisson.pmf(k,9)\n",
    "c = stats.poisson.cdf(k,6)\n",
    "print('probability that exactly four cars arriving in 1 minute is %2.4f' %a[4])\n",
    "print('probability of 0 cars arriving in 3 minutes is %2.4f' %b[0])\n",
    "print('probability of at least 3 cars arriving in 2 minutes is %2.4f' %(1-c[3]))"
   ]
  },
  {
   "cell_type": "markdown",
   "metadata": {},
   "source": [
    "4b) An airline gets on the average 4 missing baggage claims every day. Construct a probability distribution table for the missing baggage data (15 entries).\n",
    "\n",
    "i)What is the probability of at least 50 claims a week?\n",
    "\n",
    "ii)What is the probability of no claim on a day?\n",
    "\n",
    "iii)What is the probability of at most 10 claims in a 3 day period?."
   ]
  },
  {
   "cell_type": "code",
   "execution_count": 23,
   "metadata": {},
   "outputs": [
    {
     "name": "stdout",
     "output_type": "stream",
     "text": [
      "probability of at least 50 claims a week is 0.0001\n",
      "probability of at least 50 claims a week is 0.0183\n",
      "probability of at most 10 claims in a 3-day period is 0.3472\n"
     ]
    }
   ],
   "source": [
    "k=np.arange(0,51)\n",
    "a=stats.poisson.cdf(k,28)\n",
    "print('probability of at least 50 claims a week is %2.4f' %(1-a[50]))\n",
    "b=stats.poisson.pmf(k,4)\n",
    "print('probability of at least 50 claims a week is %2.4f' %(b[0]))\n",
    "c=stats.poisson.cdf(k,12)\n",
    "print('probability of at most 10 claims in a 3-day period is %2.4f' %c[10])"
   ]
  },
  {
   "cell_type": "markdown",
   "metadata": {},
   "source": [
    "5) Using standard normal distribution we can find out probability that z assumes certain\n",
    "value.\n",
    "z\n",
    "Area = Probability\n",
    "\n",
    "< 1\n",
    "0.3413 + 0.5 = 0.8413\n",
    "\n",
    ".>2\n",
    "0.5000-0.4772 = 0.0228\n",
    "\n",
    "1 < z < 2\n",
    "0.4772-0.3413 = 0.1359\n",
    "\n",
    "<-2 \n",
    "= > +2 = 0.5000-0.4772 = 0.0228\n",
    "\n",
    "-1 < z < 0.5 \n",
    "=0.5 < z < 1 = 0.3413- 0.1915 = 0.1498\n",
    "\n",
    "-1 < z < 1.5 \n",
    "= z < 1 + z < 1.5 = 0.3413 + 0.4332 = 0.7745\n"
   ]
  },
  {
   "cell_type": "code",
   "execution_count": 25,
   "metadata": {},
   "outputs": [
    {
     "name": "stdout",
     "output_type": "stream",
     "text": [
      "z < 1: 0.8413\n",
      "z > 2: 0.0228\n",
      "1 < z < 2: 0.1359\n",
      " z < -2: 0.0228\n",
      "-1 < z < -0.5: 0.1499\n",
      "z less than -2 or z > +2: 0.0455\n"
     ]
    }
   ],
   "source": [
    "print ('z < 1: %2.4f' %stats.norm.cdf(1))\n",
    "print ('z > 2: %2.4f' %(1 - stats.norm.cdf(2)))\n",
    "print ('1 < z < 2: %2.4f' %(stats.norm.cdf(2) - stats.norm.cdf(1)))\n",
    "print (' z < -2: %2.4f' %stats.norm.cdf(-2))\n",
    "print ('-1 < z < -0.5: %2.4f' %(stats.norm.cdf(-.5) - stats.norm.cdf(-1)))\n",
    "print ('z less than -2 or z > +2: %2.4f' %(2*stats.norm.cdf(-2)))"
   ]
  },
  {
   "cell_type": "markdown",
   "metadata": {},
   "source": [
    "6) The weight of breakfast cereal package follows a normal\n",
    "distribution with mean of 295 gm and SD of 25 gm What is\n",
    "the probability that a randomly chosen package weighs\n",
    "\n",
    "i) <280 gm \n",
    "ii) >350 gm \n",
    "iii) between 260 and 340 gm\n",
    "\n",
    "\n",
    "A TV set is likely to fail if the supply voltage is 180 v or more\n",
    "than 260 v In your locality the line voltage is normally\n",
    "distributed with a mean of 220 v and SD of 20 v What is the\n",
    "probability of your TV breaking down?"
   ]
  },
  {
   "cell_type": "code",
   "execution_count": 91,
   "metadata": {},
   "outputs": [
    {
     "name": "stdout",
     "output_type": "stream",
     "text": [
      "probability that a randomly chosen package weighs less than 280 gm is 0.2743\n",
      "probability that a randomly chosen package weighs greater than 360 gm is 0.0139 \n",
      "probability that a randomly chosen package weighs between 260gm and 360gm is 0.8833\n",
      "\n",
      "probability of your TV breaking down is 0.0455\n"
     ]
    }
   ],
   "source": [
    "mu=295\n",
    "sd=25\n",
    "a=stats.norm.cdf(280,mu,sd)\n",
    "print('probability that a randomly chosen package weighs less than 280 gm is %2.4f' %a)\n",
    "b=1-stats.norm.cdf(350,mu,sd)\n",
    "print('probability that a randomly chosen package weighs greater than 360 gm is %2.4f ' %b)\n",
    "c=stats.norm.cdf(340,mu,sd)-stats.norm.cdf(260,mu,sd)\n",
    "print('probability that a randomly chosen package weighs between 260gm and 360gm is %2.4f' %c)\n",
    "\n",
    "print()\n",
    "mu1=220\n",
    "sd1=20\n",
    "d=stats.norm.cdf(260,mu1,sd1)-stats.norm.cdf(180,mu1,sd1)\n",
    "print('probability of your TV breaking down is %2.4f' %(1-d))"
   ]
  },
  {
   "cell_type": "markdown",
   "metadata": {},
   "source": [
    "7) A bank wants to study customer perception of quality of its services to savings account\n",
    "holders. It is decided to go for a sample study. Say there are 1000 account holders and\n",
    "we want to select 50 a/c holders for the study."
   ]
  },
  {
   "cell_type": "code",
   "execution_count": 30,
   "metadata": {},
   "outputs": [
    {
     "data": {
      "text/plain": [
       "array([ 103, 1978,    0,  939, 1482,   59,  615,  492, 1377,   63, 1295,\n",
       "       1761,  680,  795,  621,  799, 1910, 1426,  213, 1775, 1351, 1644,\n",
       "       1887, 1566, 1694,  342,  739, 1051,  791, 1113,  160,  579,  198,\n",
       "       1082,  823, 1161,  265,  590,  397,  202,  503, 1802, 1550, 1029,\n",
       "       1450,  269,   34, 1185, 1084, 1849])"
      ]
     },
     "execution_count": 30,
     "metadata": {},
     "output_type": "execute_result"
    }
   ],
   "source": [
    "a=np.random.randint(2000,size=1000)\n",
    "np.random.choice(a,50)"
   ]
  },
  {
   "cell_type": "markdown",
   "metadata": {},
   "source": [
    "8) A sample of 20 girls out of 30 have indicated preference for medicine.\n",
    "Historically it is known that 70% of girls prefer medicine. Calculate ҧ 𝑝and\n",
    "𝜎ҧ 𝑝. What is the probability of obtaining ҧ 𝑝value between 0.65 and 0.75."
   ]
  },
  {
   "cell_type": "code",
   "execution_count": 32,
   "metadata": {},
   "outputs": [
    {
     "data": {
      "text/plain": [
       "-0.5976143046671959"
      ]
     },
     "execution_count": 32,
     "metadata": {},
     "output_type": "execute_result"
    }
   ],
   "source": [
    "n=30\n",
    "p=0.7\n",
    "pbar=0.65\n",
    "sigma_p=np.sqrt(p*(1-p))\n",
    "sigma_pbar=np.sqrt(p*(1-p)/n)\n",
    "(pbar-p)/sigma_pbar"
   ]
  },
  {
   "cell_type": "code",
   "execution_count": 33,
   "metadata": {},
   "outputs": [
    {
     "data": {
      "text/plain": [
       "0.5976143046671972"
      ]
     },
     "execution_count": 33,
     "metadata": {},
     "output_type": "execute_result"
    }
   ],
   "source": [
    "n=30\n",
    "p=0.7\n",
    "p_bar=0.75\n",
    "sigmap=np.sqrt(p*(1-p))\n",
    "sigmapbar=np.sqrt(p*(1-p)/n)\n",
    "(p_bar-p)/sigmapbar\n"
   ]
  },
  {
   "cell_type": "code",
   "execution_count": 35,
   "metadata": {},
   "outputs": [
    {
     "name": "stdout",
     "output_type": "stream",
     "text": [
      "probability of obtaining ҧ 𝑝value between 0.65 and 0.75 is 0.4448\n"
     ]
    }
   ],
   "source": [
    "print('probability of obtaining ҧ 𝑝value between 0.65 and 0.75 is %2.4f' %(stats.norm.cdf(0.59)-stats.norm.cdf(-0.59)))"
   ]
  },
  {
   "cell_type": "markdown",
   "metadata": {},
   "source": [
    "9) A company is planning to buy a machine that can save significant labour hours. The labour hours\n",
    "saved by the machine follows a normal distribution. A sample of 36 observations indicated that\n",
    "on the average it saves 2200 labour hours and that there is a 50% chance that the average labour\n",
    "hours saved falls above 2400 or below 2000.\n",
    "\n",
    "a.\n",
    "What is the population standard deviation?\n",
    "\n",
    "b.\n",
    "What is the standard error in estimating the mean?\n",
    "\n",
    "c.\n",
    "What is the 95% confidence interval for the mean?"
   ]
  },
  {
   "cell_type": "code",
   "execution_count": 90,
   "metadata": {},
   "outputs": [
    {
     "name": "stdout",
     "output_type": "stream",
     "text": [
      "population standard deviation is 113.3122\n",
      "standard error is 18.89\n",
      "confidence interval for the mean is 2193.41 to 2206.59\n"
     ]
    }
   ],
   "source": [
    "a=np.random.randint(2000,2400,36)\n",
    "n=36\n",
    "x_bar=2200\n",
    "p=0.5\n",
    "sd=np.std(a)\n",
    "se=sd/np.sqrt(n)\n",
    "print('population standard deviation is %2.4f' %sd)\n",
    "print('standard error is %2.2f' %se)\n",
    "cl_95=stats.t.ppf(0.025,35)\n",
    "ci_1=x_bar+(cl_95_t*sd/len(a))\n",
    "ci_2=x_bar-(cl_95_t*sd/len(a))\n",
    "print('confidence interval for the mean is %2.2f to %2.2f' %((ci_2),(ci_1)))"
   ]
  },
  {
   "cell_type": "markdown",
   "metadata": {},
   "source": [
    "10) A computer aided training program is expected to reduce the s/w\n",
    "project completion time. A sample of 20 project completion times is\n",
    "given. Develop a 95% Confidence interval for the mean completion\n",
    "time.\n",
    "\n",
    "1-52\n",
    "2-44\n",
    "3-55\n",
    "4-44\n",
    "5-45\n",
    "6-59\n",
    "7-50\n",
    "8-54\n",
    "9-62\n",
    "10-46\n",
    "11-54\n",
    "12-42\n",
    "13-60\n",
    "14-62\n",
    "15-43\n",
    "16-42\n",
    "17-48\n",
    "18-55\n",
    "19-57\n",
    "20-56"
   ]
  },
  {
   "cell_type": "code",
   "execution_count": 53,
   "metadata": {},
   "outputs": [
    {
     "name": "stdout",
     "output_type": "stream",
     "text": [
      "confidence interval for the mean completion time is 50.78 to 52.22\n"
     ]
    }
   ],
   "source": [
    "a=[52,44,55,44,45,59,50,54,62,46,54,42,60,62,43,42,48,55,57,56]\n",
    "b=pd.DataFrame(a)\n",
    "b.index=b.index+1\n",
    "x_bar=b.mean().values[0]\n",
    "std=b.std().values[0]\n",
    "cl_95_t=abs(stats.t.ppf(0.025,19))\n",
    "ci_1=x_bar+(cl_95_t*std/len(b))\n",
    "ci_2=x_bar-(cl_95_t*std/len(b))\n",
    "print('confidence interval for the mean completion time is %2.2f to %2.2f' %((ci_2),(ci_1)))"
   ]
  },
  {
   "cell_type": "markdown",
   "metadata": {},
   "source": [
    "11) In 2012, NDTV survey of 814 adults indicated that 562\n",
    "adults expect Pranab Mukherjee to win the Presidential\n",
    "election. What proportion of Indian adults thought\n",
    "Pranab would win? What was the margin of error? Use\n",
    "95% confidence level.\n",
    "\n",
    "Distractors argued that the margin of error and\n",
    "confidence intervals were too big. If you want to limit\n",
    "the error to 1% at 99% confidence what should be the\n",
    "sample size?"
   ]
  },
  {
   "cell_type": "code",
   "execution_count": 62,
   "metadata": {},
   "outputs": [
    {
     "name": "stdout",
     "output_type": "stream",
     "text": [
      "proportion of Indian adults who thought Pranab would win is 69.04 percent\n",
      "margin of error is 3.18 percent\n"
     ]
    }
   ],
   "source": [
    "n=814\n",
    "p_bar=562/814\n",
    "sigma=np.sqrt(p_bar*(1-p_bar))\n",
    "sigma_p=sigma/np.sqrt(n)\n",
    "mu1=p_bar+(1.96*sigma_p)\n",
    "mu2=p_bar-(1.96*sigma_p)\n",
    "error=(1.96)*sigma_p\n",
    "print('proportion of Indian adults who thought Pranab would win is %2.2f percent' %(p_bar*100))\n",
    "print('margin of error is %2.2f percent' %(error*100))"
   ]
  },
  {
   "cell_type": "code",
   "execution_count": 67,
   "metadata": {},
   "outputs": [
    {
     "name": "stdout",
     "output_type": "stream",
     "text": [
      " If the error is limited to 1 percent at 99 percent confidence, the sample size should be 17\n"
     ]
    }
   ],
   "source": [
    "cl_98=2.58\n",
    "error=1/100\n",
    "k=np.square(cl_98*sigma_p/error)\n",
    "print(' If the error is limited to 1 percent at 99 percent confidence, the sample size should be %2.0f' %k)"
   ]
  },
  {
   "cell_type": "code",
   "execution_count": null,
   "metadata": {},
   "outputs": [],
   "source": []
  }
 ],
 "metadata": {
  "kernelspec": {
   "display_name": "Python 3",
   "language": "python",
   "name": "python3"
  },
  "language_info": {
   "codemirror_mode": {
    "name": "ipython",
    "version": 3
   },
   "file_extension": ".py",
   "mimetype": "text/x-python",
   "name": "python",
   "nbconvert_exporter": "python",
   "pygments_lexer": "ipython3",
   "version": "3.7.3"
  }
 },
 "nbformat": 4,
 "nbformat_minor": 2
}
