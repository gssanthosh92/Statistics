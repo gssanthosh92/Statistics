{
 "cells": [
  {
   "cell_type": "markdown",
   "metadata": {},
   "source": [
    "Data Source - http://www.stat.ufl.edu/~winner/datasets.html (Links to an external site.)\n",
    "Data Set - http://www.stat.ufl.edu/~winner/data/airq402.dat\n",
    "Data Description - http://www.stat.ufl.edu/~winner/data/airq402.txt (Links to an external site.)\n",
    " \n",
    "Exercise Expectations/Steps -\n",
    "1.\tImport the data and assign appropriate column names.\n",
    "2.\tDrop the variables which has textual information (categorical variables)\n",
    "3.\tConvert all the variable’s datatype to Integer \n",
    "4.\tRemove all the outliers from the data using IQR method (Retain data points within 1.5 * IQR) \n",
    "5.\tPrint the correlation matrix. \n",
    "6.\tTreat “Average Fare” –  as your Dependent Variable and the variable which has the highest correlation with Average Fare as the Independent Variable. Drop all the other variables \n",
    "7.\tCreate Scatter Plot of Independent Variable Vs Dependent Variable.\n",
    "8.\tDivide the data set into training and test data set and build a Linear Regression model. \n",
    "9.\tPrint the train and test accuracy of the model.\n",
    "10.\tPrint the coefficient and the intercept of the model.\n"
   ]
  },
  {
   "cell_type": "code",
   "execution_count": 84,
   "metadata": {},
   "outputs": [],
   "source": [
    "import warnings\n",
    "warnings.filterwarnings('ignore')\n",
    "import pandas as pd\n",
    "import numpy as np\n",
    "import matplotlib.pyplot as plt\n",
    "%matplotlib inline\n",
    "import seaborn as sns\n",
    "import scipy.stats as stats\n",
    "from scipy.stats             import ttest_1samp,ttest_ind, wilcoxon,ttest_rel\n",
    "from statsmodels.stats.power import ttest_power"
   ]
  },
  {
   "cell_type": "code",
   "execution_count": 85,
   "metadata": {},
   "outputs": [],
   "source": [
    "#1.\tImport the data and assign appropriate column names.\n",
    "data=pd.read_csv('airdata.csv')"
   ]
  },
  {
   "cell_type": "code",
   "execution_count": 86,
   "metadata": {},
   "outputs": [
    {
     "data": {
      "text/html": [
       "<div>\n",
       "<style scoped>\n",
       "    .dataframe tbody tr th:only-of-type {\n",
       "        vertical-align: middle;\n",
       "    }\n",
       "\n",
       "    .dataframe tbody tr th {\n",
       "        vertical-align: top;\n",
       "    }\n",
       "\n",
       "    .dataframe thead th {\n",
       "        text-align: right;\n",
       "    }\n",
       "</style>\n",
       "<table border=\"1\" class=\"dataframe\">\n",
       "  <thead>\n",
       "    <tr style=\"text-align: right;\">\n",
       "      <th></th>\n",
       "      <th>City1</th>\n",
       "      <th>City2</th>\n",
       "      <th>Average Fare</th>\n",
       "      <th>Distance</th>\n",
       "      <th>Average weekly passengers</th>\n",
       "      <th>market leading airline</th>\n",
       "      <th>market share</th>\n",
       "      <th>Average fare</th>\n",
       "      <th>Low price airline</th>\n",
       "      <th>market share.1</th>\n",
       "      <th>price</th>\n",
       "    </tr>\n",
       "  </thead>\n",
       "  <tbody>\n",
       "    <tr>\n",
       "      <th>0</th>\n",
       "      <td>CAK</td>\n",
       "      <td>ATL</td>\n",
       "      <td>114.47</td>\n",
       "      <td>528</td>\n",
       "      <td>424.56</td>\n",
       "      <td>FL</td>\n",
       "      <td>70.19</td>\n",
       "      <td>111.03</td>\n",
       "      <td>FL</td>\n",
       "      <td>70.19</td>\n",
       "      <td>111.03</td>\n",
       "    </tr>\n",
       "    <tr>\n",
       "      <th>1</th>\n",
       "      <td>CAK</td>\n",
       "      <td>MCO</td>\n",
       "      <td>122.47</td>\n",
       "      <td>860</td>\n",
       "      <td>276.84</td>\n",
       "      <td>FL</td>\n",
       "      <td>75.10</td>\n",
       "      <td>123.09</td>\n",
       "      <td>DL</td>\n",
       "      <td>17.23</td>\n",
       "      <td>118.94</td>\n",
       "    </tr>\n",
       "    <tr>\n",
       "      <th>2</th>\n",
       "      <td>ALB</td>\n",
       "      <td>ATL</td>\n",
       "      <td>214.42</td>\n",
       "      <td>852</td>\n",
       "      <td>215.76</td>\n",
       "      <td>DL</td>\n",
       "      <td>78.89</td>\n",
       "      <td>223.98</td>\n",
       "      <td>CO</td>\n",
       "      <td>2.77</td>\n",
       "      <td>167.12</td>\n",
       "    </tr>\n",
       "    <tr>\n",
       "      <th>3</th>\n",
       "      <td>ALB</td>\n",
       "      <td>BWI</td>\n",
       "      <td>69.40</td>\n",
       "      <td>288</td>\n",
       "      <td>606.84</td>\n",
       "      <td>WN</td>\n",
       "      <td>96.97</td>\n",
       "      <td>68.86</td>\n",
       "      <td>WN</td>\n",
       "      <td>96.97</td>\n",
       "      <td>68.86</td>\n",
       "    </tr>\n",
       "    <tr>\n",
       "      <th>4</th>\n",
       "      <td>ALB</td>\n",
       "      <td>ORD</td>\n",
       "      <td>158.13</td>\n",
       "      <td>723</td>\n",
       "      <td>313.04</td>\n",
       "      <td>UA</td>\n",
       "      <td>39.79</td>\n",
       "      <td>161.36</td>\n",
       "      <td>WN</td>\n",
       "      <td>15.34</td>\n",
       "      <td>145.42</td>\n",
       "    </tr>\n",
       "  </tbody>\n",
       "</table>\n",
       "</div>"
      ],
      "text/plain": [
       "  City1 City2  Average Fare  Distance  Average weekly passengers  \\\n",
       "0   CAK   ATL        114.47       528                     424.56   \n",
       "1   CAK   MCO        122.47       860                     276.84   \n",
       "2   ALB   ATL        214.42       852                     215.76   \n",
       "3   ALB   BWI         69.40       288                     606.84   \n",
       "4   ALB   ORD        158.13       723                     313.04   \n",
       "\n",
       "  market leading airline  market share  Average fare Low price airline  \\\n",
       "0                     FL         70.19        111.03                FL   \n",
       "1                     FL         75.10        123.09                DL   \n",
       "2                     DL         78.89        223.98                CO   \n",
       "3                     WN         96.97         68.86                WN   \n",
       "4                     UA         39.79        161.36                WN   \n",
       "\n",
       "   market share.1   price  \n",
       "0           70.19  111.03  \n",
       "1           17.23  118.94  \n",
       "2            2.77  167.12  \n",
       "3           96.97   68.86  \n",
       "4           15.34  145.42  "
      ]
     },
     "execution_count": 86,
     "metadata": {},
     "output_type": "execute_result"
    }
   ],
   "source": [
    "data.head()"
   ]
  },
  {
   "cell_type": "code",
   "execution_count": 87,
   "metadata": {},
   "outputs": [],
   "source": [
    "# 2.\tDrop the variables which has textual information (categorical variables)\n",
    "# 3.\tConvert all the variable’s datatype to Integer \n",
    "data = data.drop(['City1','City2','market leading airline','Low price airline'],axis=1)\n",
    "data['Average Fare'] = data['Average Fare'].astype(int)\n",
    "data['Distance'] = data['Distance'].astype(int)\n",
    "data['Average Weekly Passengers'] = data['Average weekly passengers'].astype(int)\n",
    "data['Market Share'] = data['market share'].astype(int)\n",
    "data['Average Fare1'] = data['Average fare'].astype(int)\n",
    "data['Market Share'] = data['market share'].astype(int)\n",
    "data['Market Share1'] = data['market share.1'].astype(int)\n",
    "data['Price'] = data['price'].astype(int)"
   ]
  },
  {
   "cell_type": "code",
   "execution_count": 88,
   "metadata": {},
   "outputs": [
    {
     "data": {
      "text/html": [
       "<div>\n",
       "<style scoped>\n",
       "    .dataframe tbody tr th:only-of-type {\n",
       "        vertical-align: middle;\n",
       "    }\n",
       "\n",
       "    .dataframe tbody tr th {\n",
       "        vertical-align: top;\n",
       "    }\n",
       "\n",
       "    .dataframe thead th {\n",
       "        text-align: right;\n",
       "    }\n",
       "</style>\n",
       "<table border=\"1\" class=\"dataframe\">\n",
       "  <thead>\n",
       "    <tr style=\"text-align: right;\">\n",
       "      <th></th>\n",
       "      <th>Average Fare</th>\n",
       "      <th>Distance</th>\n",
       "      <th>Average Weekly Passengers</th>\n",
       "      <th>Market Share</th>\n",
       "      <th>Average Fare1</th>\n",
       "      <th>Market Share1</th>\n",
       "      <th>Price</th>\n",
       "    </tr>\n",
       "  </thead>\n",
       "  <tbody>\n",
       "    <tr>\n",
       "      <th>0</th>\n",
       "      <td>114</td>\n",
       "      <td>528</td>\n",
       "      <td>424</td>\n",
       "      <td>70</td>\n",
       "      <td>111</td>\n",
       "      <td>70</td>\n",
       "      <td>111</td>\n",
       "    </tr>\n",
       "    <tr>\n",
       "      <th>1</th>\n",
       "      <td>122</td>\n",
       "      <td>860</td>\n",
       "      <td>276</td>\n",
       "      <td>75</td>\n",
       "      <td>123</td>\n",
       "      <td>17</td>\n",
       "      <td>118</td>\n",
       "    </tr>\n",
       "    <tr>\n",
       "      <th>2</th>\n",
       "      <td>214</td>\n",
       "      <td>852</td>\n",
       "      <td>215</td>\n",
       "      <td>78</td>\n",
       "      <td>223</td>\n",
       "      <td>2</td>\n",
       "      <td>167</td>\n",
       "    </tr>\n",
       "    <tr>\n",
       "      <th>3</th>\n",
       "      <td>69</td>\n",
       "      <td>288</td>\n",
       "      <td>606</td>\n",
       "      <td>96</td>\n",
       "      <td>68</td>\n",
       "      <td>96</td>\n",
       "      <td>68</td>\n",
       "    </tr>\n",
       "    <tr>\n",
       "      <th>4</th>\n",
       "      <td>158</td>\n",
       "      <td>723</td>\n",
       "      <td>313</td>\n",
       "      <td>39</td>\n",
       "      <td>161</td>\n",
       "      <td>15</td>\n",
       "      <td>145</td>\n",
       "    </tr>\n",
       "  </tbody>\n",
       "</table>\n",
       "</div>"
      ],
      "text/plain": [
       "   Average Fare  Distance  Average Weekly Passengers  Market Share  \\\n",
       "0           114       528                        424            70   \n",
       "1           122       860                        276            75   \n",
       "2           214       852                        215            78   \n",
       "3            69       288                        606            96   \n",
       "4           158       723                        313            39   \n",
       "\n",
       "   Average Fare1  Market Share1  Price  \n",
       "0            111             70    111  \n",
       "1            123             17    118  \n",
       "2            223              2    167  \n",
       "3             68             96     68  \n",
       "4            161             15    145  "
      ]
     },
     "execution_count": 88,
     "metadata": {},
     "output_type": "execute_result"
    }
   ],
   "source": [
    "data = data.drop(['Average fare','Average weekly passengers','market share','price','market share.1'],axis=1)\n",
    "data.head()"
   ]
  },
  {
   "cell_type": "code",
   "execution_count": 90,
   "metadata": {},
   "outputs": [
    {
     "name": "stdout",
     "output_type": "stream",
     "text": [
      "<class 'pandas.core.frame.DataFrame'>\n",
      "RangeIndex: 1000 entries, 0 to 999\n",
      "Data columns (total 7 columns):\n",
      "Average Fare                 1000 non-null int32\n",
      "Distance                     1000 non-null int32\n",
      "Average Weekly Passengers    1000 non-null int32\n",
      "Market Share                 1000 non-null int32\n",
      "Average Fare1                1000 non-null int32\n",
      "Market Share1                1000 non-null int32\n",
      "Price                        1000 non-null int32\n",
      "dtypes: int32(7)\n",
      "memory usage: 27.4 KB\n"
     ]
    }
   ],
   "source": [
    "data.info()"
   ]
  },
  {
   "cell_type": "code",
   "execution_count": 91,
   "metadata": {},
   "outputs": [],
   "source": [
    "#4.\tRemove all the outliers from the data using IQR method (Retain data points within 1.5 * IQR) \n",
    "def remove_outlier(df_in, col_name):\n",
    "    q1 = df_in[col_name].quantile(0.25)\n",
    "    q3 = df_in[col_name].quantile(0.75)\n",
    "    iqr = q3-q1 #Interquartile range\n",
    "    fence_low  = q1-1.5*iqr\n",
    "    fence_high = q3+1.5*iqr\n",
    "    df_out = df_in.loc[(df_in[col_name] > fence_low) & (df_in[col_name] < fence_high)]\n",
    "    #print(df_out)\n",
    "    return df_out"
   ]
  },
  {
   "cell_type": "code",
   "execution_count": 57,
   "metadata": {},
   "outputs": [],
   "source": [
    "data['Average Fare']=remove_outlier(data,'Average Fare')\n",
    "data['Distance']=remove_outlier(data,'Distance')\n",
    "data['Average Weekly Passengers']=remove_outlier(data,'Average Weekly Passengers')\n",
    "data['Market Share']=remove_outlier(data,'Market Share')\n",
    "data['Average Fare1']=remove_outlier(data,'Average Fare1')\n",
    "data['Market Share1']=remove_outlier(data,'Market Share1')\n",
    "data['Price']=remove_outlier(data,'Price')"
   ]
  },
  {
   "cell_type": "code",
   "execution_count": 92,
   "metadata": {},
   "outputs": [],
   "source": [
    "data=remove_outlier(data,'Average Fare')\n",
    "data=remove_outlier(data,'Distance')\n",
    "data=remove_outlier(data,'Average Weekly Passengers')\n",
    "data=remove_outlier(data,'Market Share')\n",
    "data=remove_outlier(data,'Average Fare1')\n",
    "data=remove_outlier(data,'Market Share1')\n",
    "data=remove_outlier(data,'Price')"
   ]
  },
  {
   "cell_type": "code",
   "execution_count": 93,
   "metadata": {},
   "outputs": [
    {
     "name": "stdout",
     "output_type": "stream",
     "text": [
      "<class 'pandas.core.frame.DataFrame'>\n",
      "Int64Index: 877 entries, 0 to 999\n",
      "Data columns (total 7 columns):\n",
      "Average Fare                 877 non-null int32\n",
      "Distance                     877 non-null int32\n",
      "Average Weekly Passengers    877 non-null int32\n",
      "Market Share                 877 non-null int32\n",
      "Average Fare1                877 non-null int32\n",
      "Market Share1                877 non-null int32\n",
      "Price                        877 non-null int32\n",
      "dtypes: int32(7)\n",
      "memory usage: 30.8 KB\n"
     ]
    }
   ],
   "source": [
    "data.info()"
   ]
  },
  {
   "cell_type": "code",
   "execution_count": 94,
   "metadata": {},
   "outputs": [
    {
     "data": {
      "text/html": [
       "<div>\n",
       "<style scoped>\n",
       "    .dataframe tbody tr th:only-of-type {\n",
       "        vertical-align: middle;\n",
       "    }\n",
       "\n",
       "    .dataframe tbody tr th {\n",
       "        vertical-align: top;\n",
       "    }\n",
       "\n",
       "    .dataframe thead th {\n",
       "        text-align: right;\n",
       "    }\n",
       "</style>\n",
       "<table border=\"1\" class=\"dataframe\">\n",
       "  <thead>\n",
       "    <tr style=\"text-align: right;\">\n",
       "      <th></th>\n",
       "      <th>Average Fare</th>\n",
       "      <th>Distance</th>\n",
       "      <th>Average Weekly Passengers</th>\n",
       "      <th>Market Share</th>\n",
       "      <th>Average Fare1</th>\n",
       "      <th>Market Share1</th>\n",
       "      <th>Price</th>\n",
       "    </tr>\n",
       "  </thead>\n",
       "  <tbody>\n",
       "    <tr>\n",
       "      <th>0</th>\n",
       "      <td>114</td>\n",
       "      <td>528</td>\n",
       "      <td>424</td>\n",
       "      <td>70</td>\n",
       "      <td>111</td>\n",
       "      <td>70</td>\n",
       "      <td>111</td>\n",
       "    </tr>\n",
       "    <tr>\n",
       "      <th>1</th>\n",
       "      <td>122</td>\n",
       "      <td>860</td>\n",
       "      <td>276</td>\n",
       "      <td>75</td>\n",
       "      <td>123</td>\n",
       "      <td>17</td>\n",
       "      <td>118</td>\n",
       "    </tr>\n",
       "    <tr>\n",
       "      <th>2</th>\n",
       "      <td>214</td>\n",
       "      <td>852</td>\n",
       "      <td>215</td>\n",
       "      <td>78</td>\n",
       "      <td>223</td>\n",
       "      <td>2</td>\n",
       "      <td>167</td>\n",
       "    </tr>\n",
       "    <tr>\n",
       "      <th>3</th>\n",
       "      <td>69</td>\n",
       "      <td>288</td>\n",
       "      <td>606</td>\n",
       "      <td>96</td>\n",
       "      <td>68</td>\n",
       "      <td>96</td>\n",
       "      <td>68</td>\n",
       "    </tr>\n",
       "    <tr>\n",
       "      <th>4</th>\n",
       "      <td>158</td>\n",
       "      <td>723</td>\n",
       "      <td>313</td>\n",
       "      <td>39</td>\n",
       "      <td>161</td>\n",
       "      <td>15</td>\n",
       "      <td>145</td>\n",
       "    </tr>\n",
       "  </tbody>\n",
       "</table>\n",
       "</div>"
      ],
      "text/plain": [
       "   Average Fare  Distance  Average Weekly Passengers  Market Share  \\\n",
       "0           114       528                        424            70   \n",
       "1           122       860                        276            75   \n",
       "2           214       852                        215            78   \n",
       "3            69       288                        606            96   \n",
       "4           158       723                        313            39   \n",
       "\n",
       "   Average Fare1  Market Share1  Price  \n",
       "0            111             70    111  \n",
       "1            123             17    118  \n",
       "2            223              2    167  \n",
       "3             68             96     68  \n",
       "4            161             15    145  "
      ]
     },
     "execution_count": 94,
     "metadata": {},
     "output_type": "execute_result"
    }
   ],
   "source": [
    "data.head()"
   ]
  },
  {
   "cell_type": "code",
   "execution_count": 95,
   "metadata": {},
   "outputs": [
    {
     "data": {
      "text/plain": [
       "<matplotlib.axes._subplots.AxesSubplot at 0x17aafc70b00>"
      ]
     },
     "execution_count": 95,
     "metadata": {},
     "output_type": "execute_result"
    },
    {
     "data": {
      "image/png": "[encoded data removed]",
      "text/plain": [
       "<Figure size 432x288 with 1 Axes>"
      ]
     },
     "metadata": {
      "needs_background": "light"
     },
     "output_type": "display_data"
    }
   ],
   "source": [
    "sns.boxplot(data['Average Fare1'])"
   ]
  },
  {
   "cell_type": "code",
   "execution_count": 96,
   "metadata": {},
   "outputs": [
    {
     "data": {
      "text/html": [
       "<div>\n",
       "<style scoped>\n",
       "    .dataframe tbody tr th:only-of-type {\n",
       "        vertical-align: middle;\n",
       "    }\n",
       "\n",
       "    .dataframe tbody tr th {\n",
       "        vertical-align: top;\n",
       "    }\n",
       "\n",
       "    .dataframe thead th {\n",
       "        text-align: right;\n",
       "    }\n",
       "</style>\n",
       "<table border=\"1\" class=\"dataframe\">\n",
       "  <thead>\n",
       "    <tr style=\"text-align: right;\">\n",
       "      <th></th>\n",
       "      <th>Average Fare</th>\n",
       "      <th>Distance</th>\n",
       "      <th>Average Weekly Passengers</th>\n",
       "      <th>Market Share</th>\n",
       "      <th>Average Fare1</th>\n",
       "      <th>Market Share1</th>\n",
       "      <th>Price</th>\n",
       "    </tr>\n",
       "  </thead>\n",
       "  <tbody>\n",
       "    <tr>\n",
       "      <th>Average Fare</th>\n",
       "      <td>1.000000</td>\n",
       "      <td>0.512216</td>\n",
       "      <td>-0.194766</td>\n",
       "      <td>-0.202173</td>\n",
       "      <td>0.979764</td>\n",
       "      <td>-0.498469</td>\n",
       "      <td>0.837312</td>\n",
       "    </tr>\n",
       "    <tr>\n",
       "      <th>Distance</th>\n",
       "      <td>0.512216</td>\n",
       "      <td>1.000000</td>\n",
       "      <td>-0.123027</td>\n",
       "      <td>-0.545426</td>\n",
       "      <td>0.480058</td>\n",
       "      <td>-0.361256</td>\n",
       "      <td>0.531825</td>\n",
       "    </tr>\n",
       "    <tr>\n",
       "      <th>Average Weekly Passengers</th>\n",
       "      <td>-0.194766</td>\n",
       "      <td>-0.123027</td>\n",
       "      <td>1.000000</td>\n",
       "      <td>0.019110</td>\n",
       "      <td>-0.160618</td>\n",
       "      <td>0.074929</td>\n",
       "      <td>-0.206008</td>\n",
       "    </tr>\n",
       "    <tr>\n",
       "      <th>Market Share</th>\n",
       "      <td>-0.202173</td>\n",
       "      <td>-0.545426</td>\n",
       "      <td>0.019110</td>\n",
       "      <td>1.000000</td>\n",
       "      <td>-0.188859</td>\n",
       "      <td>0.279923</td>\n",
       "      <td>-0.309300</td>\n",
       "    </tr>\n",
       "    <tr>\n",
       "      <th>Average Fare1</th>\n",
       "      <td>0.979764</td>\n",
       "      <td>0.480058</td>\n",
       "      <td>-0.160618</td>\n",
       "      <td>-0.188859</td>\n",
       "      <td>1.000000</td>\n",
       "      <td>-0.522893</td>\n",
       "      <td>0.790606</td>\n",
       "    </tr>\n",
       "    <tr>\n",
       "      <th>Market Share1</th>\n",
       "      <td>-0.498469</td>\n",
       "      <td>-0.361256</td>\n",
       "      <td>0.074929</td>\n",
       "      <td>0.279923</td>\n",
       "      <td>-0.522893</td>\n",
       "      <td>1.000000</td>\n",
       "      <td>-0.261949</td>\n",
       "    </tr>\n",
       "    <tr>\n",
       "      <th>Price</th>\n",
       "      <td>0.837312</td>\n",
       "      <td>0.531825</td>\n",
       "      <td>-0.206008</td>\n",
       "      <td>-0.309300</td>\n",
       "      <td>0.790606</td>\n",
       "      <td>-0.261949</td>\n",
       "      <td>1.000000</td>\n",
       "    </tr>\n",
       "  </tbody>\n",
       "</table>\n",
       "</div>"
      ],
      "text/plain": [
       "                           Average Fare  Distance  Average Weekly Passengers  \\\n",
       "Average Fare                   1.000000  0.512216                  -0.194766   \n",
       "Distance                       0.512216  1.000000                  -0.123027   \n",
       "Average Weekly Passengers     -0.194766 -0.123027                   1.000000   \n",
       "Market Share                  -0.202173 -0.545426                   0.019110   \n",
       "Average Fare1                  0.979764  0.480058                  -0.160618   \n",
       "Market Share1                 -0.498469 -0.361256                   0.074929   \n",
       "Price                          0.837312  0.531825                  -0.206008   \n",
       "\n",
       "                           Market Share  Average Fare1  Market Share1  \\\n",
       "Average Fare                  -0.202173       0.979764      -0.498469   \n",
       "Distance                      -0.545426       0.480058      -0.361256   \n",
       "Average Weekly Passengers      0.019110      -0.160618       0.074929   \n",
       "Market Share                   1.000000      -0.188859       0.279923   \n",
       "Average Fare1                 -0.188859       1.000000      -0.522893   \n",
       "Market Share1                  0.279923      -0.522893       1.000000   \n",
       "Price                         -0.309300       0.790606      -0.261949   \n",
       "\n",
       "                              Price  \n",
       "Average Fare               0.837312  \n",
       "Distance                   0.531825  \n",
       "Average Weekly Passengers -0.206008  \n",
       "Market Share              -0.309300  \n",
       "Average Fare1              0.790606  \n",
       "Market Share1             -0.261949  \n",
       "Price                      1.000000  "
      ]
     },
     "execution_count": 96,
     "metadata": {},
     "output_type": "execute_result"
    }
   ],
   "source": [
    "#5.\tPrint the correlation matrix. \n",
    "data.corr()"
   ]
  },
  {
   "cell_type": "code",
   "execution_count": 97,
   "metadata": {},
   "outputs": [],
   "source": [
    "#6.\tTreat “Average Fare” –  as your Dependent Variable and the variable which has the highest correlation with Average Fare as the Independent Variable. Drop all the other variables \n",
    "data['Average Fare']=data['Average Fare'].fillna(data['Average Fare'].mean())\n",
    "data['Distance']=data['Distance'].fillna(data['Distance'].mean())\n",
    "data['Average Weekly Passengers']=data['Average Weekly Passengers'].fillna(data['Average Weekly Passengers'].mean())\n",
    "data['Market Share']=data['Market Share'].fillna(data['Market Share'].mean())\n",
    "data['Average Fare1']=data['Average Fare1'].fillna(data['Average Fare1'].mean())\n",
    "data['Market Share1']=data['Market Share1'].fillna(data['Market Share1'].mean())\n",
    "data['Price']=data['Price'].fillna(data['Price'].mean())"
   ]
  },
  {
   "cell_type": "code",
   "execution_count": 98,
   "metadata": {},
   "outputs": [
    {
     "data": {
      "text/plain": [
       "<matplotlib.axes._subplots.AxesSubplot at 0x17aafcd0828>"
      ]
     },
     "execution_count": 98,
     "metadata": {},
     "output_type": "execute_result"
    },
    {
     "data": {
      "image/png": "[encoded data removed]",
      "text/plain": [
       "<Figure size 432x288 with 1 Axes>"
      ]
     },
     "metadata": {
      "needs_background": "light"
     },
     "output_type": "display_data"
    }
   ],
   "source": [
    "#7.\tCreate Scatter Plot of Independent Variable Vs Dependent Variable.\n",
    "sns.scatterplot(x=data['Average Fare'],y=data['Average Fare1'])"
   ]
  },
  {
   "cell_type": "code",
   "execution_count": 107,
   "metadata": {},
   "outputs": [],
   "source": [
    "#8.\tDivide the data set into training and test data set and build a Linear Regression model. \n",
    "a = ['Average Fare']\n",
    "train = data[a]\n",
    "b = ['Average Fare1']\n",
    "test = data[b]"
   ]
  },
  {
   "cell_type": "code",
   "execution_count": 108,
   "metadata": {},
   "outputs": [
    {
     "name": "stdout",
     "output_type": "stream",
     "text": [
      "(526, 1)\n",
      "(526, 1)\n",
      "(351, 1)\n",
      "(351, 1)\n"
     ]
    }
   ],
   "source": [
    "from sklearn.model_selection import train_test_split\n",
    "\n",
    "x_train, x_test, y_train, y_test = train_test_split(train, test, test_size = 0.4, random_state = 45)\n",
    "\n",
    "print(x_train.shape)\n",
    "print(y_train.shape)\n",
    "print(x_test.shape)\n",
    "print(y_test.shape)"
   ]
  },
  {
   "cell_type": "code",
   "execution_count": 109,
   "metadata": {},
   "outputs": [
    {
     "data": {
      "text/plain": [
       "0.07034220532319392"
      ]
     },
     "execution_count": 109,
     "metadata": {},
     "output_type": "execute_result"
    }
   ],
   "source": [
    "#9.\tPrint the train and test accuracy of the model.\n",
    "from sklearn.metrics import accuracy_score\n",
    "accuracy_score(x_train,y_train)"
   ]
  },
  {
   "cell_type": "code",
   "execution_count": 110,
   "metadata": {},
   "outputs": [
    {
     "data": {
      "text/plain": [
       "LinearRegression(copy_X=True, fit_intercept=True, n_jobs=None, normalize=False)"
      ]
     },
     "execution_count": 110,
     "metadata": {},
     "output_type": "execute_result"
    }
   ],
   "source": [
    "from sklearn.linear_model import LinearRegression\n",
    "regressor = LinearRegression()\n",
    "regressor.fit(x_train, y_train)"
   ]
  },
  {
   "cell_type": "code",
   "execution_count": 111,
   "metadata": {},
   "outputs": [
    {
     "data": {
      "text/plain": [
       "array([-10.93179445])"
      ]
     },
     "execution_count": 111,
     "metadata": {},
     "output_type": "execute_result"
    }
   ],
   "source": [
    "#10.\tPrint the coefficient and the intercept of the model.\n",
    "regressor.intercept_"
   ]
  },
  {
   "cell_type": "code",
   "execution_count": 112,
   "metadata": {},
   "outputs": [
    {
     "data": {
      "text/plain": [
       "array([[1.08867126]])"
      ]
     },
     "execution_count": 112,
     "metadata": {},
     "output_type": "execute_result"
    }
   ],
   "source": [
    "regressor.coef_"
   ]
  },
  {
   "cell_type": "code",
   "execution_count": null,
   "metadata": {},
   "outputs": [],
   "source": []
  }
 ],
 "metadata": {
  "kernelspec": {
   "display_name": "Python 3",
   "language": "python",
   "name": "python3"
  },
  "language_info": {
   "codemirror_mode": {
    "name": "ipython",
    "version": 3
   },
   "file_extension": ".py",
   "mimetype": "text/x-python",
   "name": "python",
   "nbconvert_exporter": "python",
   "pygments_lexer": "ipython3",
   "version": "3.7.3"
  }
 },
 "nbformat": 4,
 "nbformat_minor": 2
}
