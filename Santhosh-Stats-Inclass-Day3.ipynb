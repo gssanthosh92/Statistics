{
 "cells": [
  {
   "cell_type": "markdown",
   "metadata": {},
   "source": [
    "#### PART 1"
   ]
  },
  {
   "cell_type": "code",
   "execution_count": 1,
   "metadata": {},
   "outputs": [],
   "source": [
    "import  scipy.stats                     as  stats\n",
    "import  statsmodels.stats.proportion    as  SMP \n",
    "import  numpy                           as  np\n",
    "import  pandas                          as  pd"
   ]
  },
  {
   "cell_type": "markdown",
   "metadata": {},
   "source": [
    "### Question 1"
   ]
  },
  {
   "cell_type": "markdown",
   "metadata": {},
   "source": [
    "A sample of 100 diabetic patients was chosen to estimate the length of stay at a local hospital. \n",
    "The sample was 4.5 days and the population standard deviation was known to be 1.2 days.\n",
    "\n",
    "* a) Calculate the 95% confidence interval for the population mean.\n",
    "* b) What is the probability that the population mean is greater than 4.73 days?"
   ]
  },
  {
   "cell_type": "markdown",
   "metadata": {},
   "source": [
    "### Solution"
   ]
  },
  {
   "cell_type": "markdown",
   "metadata": {},
   "source": [
    "a) Calculate the 95% confidence interval for the population mean.\n",
    "\n",
    "It is known that \n",
    "* $\\overline{X}$ = 4.5\n",
    "* $\\sigma$       = 1.2\n",
    "* n              = 100\n",
    "We need to compute $\\overline{X} \\quad \\pm 1.96 \\frac {\\sigma} {\\sqrt{n}}$ "
   ]
  },
  {
   "cell_type": "code",
   "execution_count": 25,
   "metadata": {},
   "outputs": [
    {
     "name": "stdout",
     "output_type": "stream",
     "text": [
      " 95% confidence interval for the population mean is between 4.26 to 4.74\n"
     ]
    }
   ],
   "source": [
    "xbar = 4.5\n",
    "sigma = 1.2\n",
    "n = 100\n",
    "alpha = 0.05\n",
    "se = sigma/np.sqrt(n)\n",
    "a = xbar+(1.96*se)\n",
    "b = xbar-(1.96*se)\n",
    "print(' 95% confidence interval for the population mean is between',round(b,2),'to',round(a,2))"
   ]
  },
  {
   "cell_type": "markdown",
   "metadata": {},
   "source": [
    "b) What is the probability that the population mean is greater than 4.73 days?"
   ]
  },
  {
   "cell_type": "markdown",
   "metadata": {},
   "source": [
    "We need to do the following:\n",
    "* a. Calculate Z value corresponding to 4.73 by subtracting Xavg and divide by s\n",
    "* b. find out the probability corresponding to the Z value using scipy.stats.norm.cdf and then subtracting from 1 since cdf gives cumulative probability upto the Z value sincd we are interested in finding the probability that the population mean is greater than Z"
   ]
  },
  {
   "cell_type": "code",
   "execution_count": 3,
   "metadata": {},
   "outputs": [
    {
     "data": {
      "text/plain": [
       "0.19166666666666704"
      ]
     },
     "execution_count": 3,
     "metadata": {},
     "output_type": "execute_result"
    }
   ],
   "source": [
    "z = (4.73-xbar)/sigma\n",
    "z"
   ]
  },
  {
   "cell_type": "code",
   "execution_count": 6,
   "metadata": {},
   "outputs": [
    {
     "data": {
      "text/plain": [
       "0.4240016589978113"
      ]
     },
     "execution_count": 6,
     "metadata": {},
     "output_type": "execute_result"
    }
   ],
   "source": [
    "1 - stats.norm.cdf(z)"
   ]
  },
  {
   "cell_type": "markdown",
   "metadata": {},
   "source": [
    "### Question 2"
   ]
  },
  {
   "cell_type": "markdown",
   "metadata": {},
   "source": [
    "Hindustan Pencils Pvt. Ltd. is an Indian manufacturer of pencils, writing materials and other stationery items, established in 1958 in Mumbai. Nataraj brand of pencils manufactured by the company is expected to have a mean length of 172 mm and the standard deviation of the length is 0.02 mm.\n",
    "\n",
    "To ensure quality, a sample is selected at periodic intervals to determine whether the length is still 172 mm and other dimensions of the pencil meet the quality standards set by the company.\n",
    "\n",
    "You select a random sample of 100 pencils and the mean is 170 mm. \n",
    "\n",
    "Construct a 95% confidenct interval for the pencil length."
   ]
  },
  {
   "cell_type": "markdown",
   "metadata": {},
   "source": [
    "### Solution"
   ]
  },
  {
   "cell_type": "markdown",
   "metadata": {},
   "source": [
    "It is known that \n",
    "* $\\overline{X}$ = 172 mm\n",
    "* $\\sigma$       = 0.02 mm\n",
    "* n              = 100\n",
    "We need to compute $\\overline{X} \\quad \\pm 1.96 \\frac {\\sigma} {\\sqrt{n}}$ "
   ]
  },
  {
   "cell_type": "code",
   "execution_count": 27,
   "metadata": {},
   "outputs": [
    {
     "name": "stdout",
     "output_type": "stream",
     "text": [
      " 95% confidence interval for the population mean is between 171.996 to 172.004\n"
     ]
    }
   ],
   "source": [
    "xbar = 172\n",
    "sigma = 0.02\n",
    "n = 100\n",
    "se = sigma/np.sqrt(n)\n",
    "a = xbar+(1.96*se)\n",
    "b = xbar-(1.96*se)\n",
    "print(' 95% confidence interval for the population mean is between',round(b,3),'to',round(a,3))"
   ]
  },
  {
   "cell_type": "markdown",
   "metadata": {},
   "source": [
    "## Question 3"
   ]
  },
  {
   "cell_type": "markdown",
   "metadata": {},
   "source": [
    "Construct a 99% confidence interval for the following examples given above:\n",
    "* a. Example 2\n",
    "* b. Example 3"
   ]
  },
  {
   "cell_type": "code",
   "execution_count": 28,
   "metadata": {},
   "outputs": [
    {
     "name": "stdout",
     "output_type": "stream",
     "text": [
      " 95% confidence interval for the population mean is between 4.19 to 4.81\n"
     ]
    }
   ],
   "source": [
    "xbar = 4.5\n",
    "sigma = 1.2\n",
    "n = 100\n",
    "alpha = 0.05\n",
    "se = sigma/np.sqrt(n)\n",
    "a = xbar+(2.57*se)\n",
    "b = xbar-(2.57*se)\n",
    "print(' 95% confidence interval for the population mean is between',round(b,2),'to',round(a,2))"
   ]
  },
  {
   "cell_type": "code",
   "execution_count": 29,
   "metadata": {},
   "outputs": [
    {
     "name": "stdout",
     "output_type": "stream",
     "text": [
      " 95% confidence interval for the population mean is between 171.995 to 172.005\n"
     ]
    }
   ],
   "source": [
    "xbar = 172\n",
    "sigma = 0.02\n",
    "n = 100\n",
    "se = sigma/np.sqrt(n)\n",
    "a = xbar+(2.57*se)\n",
    "b = xbar-(2.57*se)\n",
    "print(' 95% confidence interval for the population mean is between',round(b,3),'to',round(a,3))"
   ]
  },
  {
   "cell_type": "markdown",
   "metadata": {},
   "source": [
    "#### Part 2"
   ]
  },
  {
   "cell_type": "markdown",
   "metadata": {},
   "source": [
    "### Question 4"
   ]
  },
  {
   "cell_type": "markdown",
   "metadata": {},
   "source": [
    "The following table contains the length of stay in minutes of each customer at a Fast Food restaurant.\n",
    "\n",
    "|      |      |      |      |      |\n",
    "| ---  | ---  | ---  | ---  | ---  |\n",
    "| 7.42 | 6.29 | 5.83 | 6.50 | 8.34 |\n",
    "| 9.51 | 7.10 | 6.80 | 5.90 | 4.89 |\n",
    "| 6.50 | 5.52 | 7.90 | 8.30 | 9.60 |\n",
    "\n",
    "* a. *Construct 95% confidence interval estimate for the population mean length of stay at Fast Food restaurant, assuming a normal distribution.*\n",
    "* b. *Interpret the interval constructed at a.*"
   ]
  },
  {
   "cell_type": "code",
   "execution_count": 18,
   "metadata": {},
   "outputs": [
    {
     "name": "stdout",
     "output_type": "stream",
     "text": [
      "95% confidence interval estimate for the population mean is  6.41 to 7.78\n"
     ]
    }
   ],
   "source": [
    "a=np.array([7.42,6.29,5.83,6.50,8.34,9.51,7.10,6.80,5.90,4.89,6.50,5.52,7.90,8.30,9.60])\n",
    "x_bar=np.mean(a)\n",
    "cl_95=stats.norm.isf((5/100)/2)\n",
    "std=np.std(a)\n",
    "n=len(a)\n",
    "ci_1=x_bar+(cl_95*std/np.sqrt(n))\n",
    "ci_2=x_bar-(cl_95*std/np.sqrt(n))\n",
    "print('95% confidence interval estimate for the population mean is ',round(ci_2,2),'to',round(ci_1,2))"
   ]
  },
  {
   "cell_type": "markdown",
   "metadata": {
    "collapsed": true
   },
   "source": [
    "### Question 5"
   ]
  },
  {
   "cell_type": "markdown",
   "metadata": {},
   "source": [
    "Time taken to resolve a customer complaints in days of 100 customers in a Service Organization is given below:"
   ]
  },
  {
   "cell_type": "markdown",
   "metadata": {},
   "source": [
    " |      |      |      |      |      |      |      |      |      |      |\n",
    " | ---  | ---- | ---- | ---- | ---- | ---- | ---- | ---- | ---- | ---- |\n",
    " | 2.50 | 3.26 | 2.79 | 3.74 | 5.60 | 3.24 | 3.65 | 3.91 | 4.35 | 3.35 |\n",
    " | 5.67 | 5.38 | 3.54 | 5.10 | 3.66 | 3.01 | 3.96 | 4.98 | 4.56 | 5.00 |\n",
    " | 5.03 | 5.29 | 4.91 | 4.63 | 2.94 | 3.82 | 4.76 | 2.24 | 4.25 | 3.45 |\n",
    " | 3.14 | 4.64 | 4.56 | 4.61 | 2.68 | 3.61 | 5.46 | 2.83 | 4.84 | 4.31 |\n",
    " | 2.98 | 3.90 | 4.45 | 3.62 | 6.15 | 4.04 | 5.19 | 4.63 | 2.78 | 2.95 |\n",
    " | 3.65 | 4.49 | 3.52 | 4.07 | 4.16 | 5.56 | 2.69 | 6.69 | 1.26 | 3.14 |\n",
    " | 4.71 | 4.80 | 3.41 | 3.18 | 4.64 | 4.23 | 4.36 | 3.94 | 3.81 | 4.26 |\n",
    " | 2.92 | 2.87 | 2.08 | 3.09 | 3.60 | 2.93 | 3.85 | 4.66 | 4.70 | 3.61 |\n",
    " | 5.59 | 3.39 | 3.13 | 4.14 | 4.23 | 4.25 | 4.12 | 5.95 | 4.76 | 4.96 |\n",
    " | 2.27 | 3.77 | 5.25 | 3.05 | 3.20 | 5.22 | 3.84 | 2.24 | 4.75 | 3.07 |\n"
   ]
  },
  {
   "cell_type": "markdown",
   "metadata": {},
   "source": [
    "* a. *Construct 95% confidence interval estimate for the population mean days to resolve customer complaints,\n",
    "      assuming a normal distribution.*\n",
    "* b. *Interpret the interval constructed at a.*\n",
    "\n",
    "**Hint**\n",
    "\n",
    "* 1) Use the following code to obtain the NumPy array, resolvedDays to solve this problem."
   ]
  },
  {
   "cell_type": "code",
   "execution_count": 24,
   "metadata": {},
   "outputs": [
    {
     "name": "stdout",
     "output_type": "stream",
     "text": [
      "95% confidence interval estimate for the population mean days is  3.8  to  4.2\n"
     ]
    }
   ],
   "source": [
    "resolved_in_days = [2.50, 3.26, 2.79, 3.74, 5.60, 3.24, 3.65, 3.91, 4.35, 3.35,\\\n",
    "5.67, 5.38, 3.54, 5.10, 3.66, 3.01, 3.96, 4.98, 4.56, 5.00,\\\n",
    "5.03, 5.29, 4.91, 4.63, 2.94, 3.82, 4.76, 2.24, 4.25, 3.45,\\\n",
    "3.14, 4.64, 4.56, 4.61, 2.68, 3.61, 5.46, 2.83, 4.84, 4.31,\\\n",
    "2.98, 3.90, 4.45, 3.62, 6.15, 4.04, 5.19, 4.63, 2.78, 2.95,\\\n",
    "3.65, 4.49, 3.52, 4.07, 4.16, 5.56, 2.69, 6.69, 1.26, 3.14,\\\n",
    "4.71, 4.80, 3.41, 3.18, 4.64, 4.23, 4.36, 3.94, 3.81, 4.26,\\\n",
    "2.92, 2.87, 2.08, 3.09, 3.60, 2.93, 3.85, 4.66, 4.70, 3.61,\\\n",
    "5.59, 3.39, 3.13, 4.14, 4.23, 4.25, 4.12, 5.95, 4.76, 4.96,\\\n",
    "2.27, 3.77, 5.25, 3.05, 3.20, 5.22, 3.84, 2.24, 4.75, 3.07]\n",
    "resolvedDays = np.array(resolved_in_days)\n",
    "x_bar=np.mean(resolved_in_days)\n",
    "cl_95=stats.norm.isf((5/100)/2)\n",
    "std=np.std(resolved_in_days)\n",
    "n=len(resolved_in_days)\n",
    "ci_1=x_bar+(cl_95*std/np.sqrt(n))\n",
    "ci_2=x_bar-(cl_95*std/np.sqrt(n))\n",
    "print('95% confidence interval estimate for the population mean days is ',round(ci_2,2),' to ',round(ci_1,2))"
   ]
  },
  {
   "cell_type": "markdown",
   "metadata": {},
   "source": [
    "### Question 6"
   ]
  },
  {
   "cell_type": "markdown",
   "metadata": {},
   "source": [
    "Write the null and alternative hypothesis from the following hypopthesis description:\n",
    "\n",
    "a. Average annual salary of Data Scientists is different for those having Ph.D in Statistics and those who do not.\n",
    "* Let $\\mu_{PhD}$ be the average annual salary of a Data scientist with Ph.D in Statistics.\n",
    "* Let $\\mu_{NoPhD}$ be the average annual salary of a Data scientist without Ph.D in Statistics."
   ]
  },
  {
   "cell_type": "markdown",
   "metadata": {},
   "source": [
    "b. Average annual salary of Data Scientists is more for those having Ph.D in Statistics and those who do not."
   ]
  },
  {
   "cell_type": "markdown",
   "metadata": {},
   "source": [
    "##### a)\n",
    "H0: muPHD >= avg sal\n",
    "\n",
    "Ha: muNOPHD < avg sal"
   ]
  },
  {
   "cell_type": "markdown",
   "metadata": {},
   "source": [
    "#### b)\n",
    "H0: muavgsal <= sal phd\n",
    "\n",
    "Ha: muavgsal > sal no phd"
   ]
  },
  {
   "cell_type": "markdown",
   "metadata": {
    "collapsed": true
   },
   "source": [
    "### Question 7\n",
    "\n",
    "A beverages company produces mineral water and available in 250 ml, 500 ml, 1 litre and 2 litre bottles, 5 litre, 15 litre and 20 litre jars.\n",
    "Let us consider 2 litre bottles. Company specification require a mean volume of 2 litre per bottle.\n",
    "You must adjust the water filling process when the mean volume in the population of bottles differs from 2 litres. Adjusting the process requires shutting down the water filling production line completely, so you do not want to make any adjustments without any reason unnecessarily.\n",
    "\n",
    "Assume a sample of 50 water bottles indicate a sample mean, $\\overline{X}$ of 2.001 litres and the population standard deviation, $\\sigma$ is 15 ml."
   ]
  },
  {
   "cell_type": "markdown",
   "metadata": {},
   "source": [
    "#### Hypothesis testing using the critical value approach"
   ]
  },
  {
   "cell_type": "markdown",
   "metadata": {},
   "source": [
    "### Step 1: Define null and alternative hypotheses"
   ]
  },
  {
   "cell_type": "markdown",
   "metadata": {},
   "source": [
    "### Step 2: Decide the significance level"
   ]
  },
  {
   "cell_type": "markdown",
   "metadata": {},
   "source": [
    "### Step 3:  Identify the test statistic"
   ]
  },
  {
   "cell_type": "markdown",
   "metadata": {},
   "source": [
    "### Step 4: Calculate the critical value"
   ]
  },
  {
   "cell_type": "markdown",
   "metadata": {},
   "source": [
    "H0: mu <= 2\n",
    "\n",
    "Ha: mu > 2"
   ]
  },
  {
   "cell_type": "code",
   "execution_count": 34,
   "metadata": {},
   "outputs": [
    {
     "data": {
      "text/plain": [
       "2.1213203435596424"
      ]
     },
     "execution_count": 34,
     "metadata": {},
     "output_type": "execute_result"
    }
   ],
   "source": [
    "n = 50\n",
    "xbar = 2.001\n",
    "sigma = 15\n",
    "alpha = 0.05\n",
    "mu0 = 2\n",
    "se = sigma/np.sqrt(n)\n",
    "se"
   ]
  },
  {
   "cell_type": "code",
   "execution_count": 37,
   "metadata": {},
   "outputs": [
    {
     "data": {
      "text/plain": [
       "1.9599639845400545"
      ]
     },
     "execution_count": 37,
     "metadata": {},
     "output_type": "execute_result"
    }
   ],
   "source": [
    "zcrit = stats.norm.isf(alpha/2) \n",
    "zcrit"
   ]
  },
  {
   "cell_type": "code",
   "execution_count": 38,
   "metadata": {},
   "outputs": [
    {
     "data": {
      "text/plain": [
       "0.0004714045207909798"
      ]
     },
     "execution_count": 38,
     "metadata": {},
     "output_type": "execute_result"
    }
   ],
   "source": [
    "z = (xbar-mu0)/se \n",
    "z"
   ]
  },
  {
   "cell_type": "markdown",
   "metadata": {},
   "source": [
    " Z < zcrit hence we accept the null hypothesis"
   ]
  }
 ],
 "metadata": {
  "kernelspec": {
   "display_name": "Python 3",
   "language": "python",
   "name": "python3"
  },
  "language_info": {
   "codemirror_mode": {
    "name": "ipython",
    "version": 3
   },
   "file_extension": ".py",
   "mimetype": "text/x-python",
   "name": "python",
   "nbconvert_exporter": "python",
   "pygments_lexer": "ipython3",
   "version": "3.7.3"
  }
 },
 "nbformat": 4,
 "nbformat_minor": 2
}
